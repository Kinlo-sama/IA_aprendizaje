{
 "cells": [
  {
   "cell_type": "markdown",
   "metadata": {},
   "source": [
    "### **Librerias Necesarias**"
   ]
  },
  {
   "cell_type": "code",
   "execution_count": 1,
   "metadata": {},
   "outputs": [],
   "source": [
    "%run Proyecto_idDrRecursos.ipynb"
   ]
  },
  {
   "cell_type": "markdown",
   "metadata": {},
   "source": [
    "### **Extracción de datos 2**\n",
    "Dado que la primera extracción de datos se hizo tomando las primeras 6000 frecuencias de los audios, ahora se tomaran mas casos"
   ]
  },
  {
   "cell_type": "code",
   "execution_count": 1,
   "metadata": {},
   "outputs": [
    {
     "name": "stdout",
     "output_type": "stream",
     "text": [
      "[93, 46, 23, 11, 5]\n"
     ]
    }
   ],
   "source": [
    "i = 93\n",
    "freqs = []\n",
    "while i >= 5:\n",
    "    freqs.append(i)\n",
    "    i //= 2\n",
    "print(freqs)"
   ]
  },
  {
   "cell_type": "code",
   "execution_count": 6,
   "metadata": {},
   "outputs": [],
   "source": [
    "for f in freqs:\n",
    "    carpeta_audios = \"./Seleccion/Drone/*\"\n",
    "\n",
    "    lista_freq = []\n",
    "\n",
    "    for archivo_audio in glob.glob(carpeta_audios):\n",
    "        #Cargar el audio y su tasa de muestreo\n",
    "        audio, sr = librosa.load(archivo_audio)\n",
    "        duration = librosa.get_duration(y=audio, sr=sr)\n",
    "        sr = int(duration * sr)\n",
    "        t = np.linspace(0,1,sr)  \n",
    "        fft_result = np.fft.fft(audio)\n",
    "        fft_result /= (sr / 2)\n",
    "        fft_result = np.abs(fft_result)\n",
    "        fft_result = fft_result[:len(fft_result) // 2]\n",
    "        fft_result = fft_result[:f]\n",
    "        lista_freq.append(fft_result)\n",
    "\n",
    "    colFreqs = pd.Series(lista_freq)\n",
    "\n",
    "    carpeta_audios = \"./Seleccion/Drone_unknown/*\"\n",
    "    lista_freq = []\n",
    "\n",
    "    for archivo_audio in glob.glob(carpeta_audios):\n",
    "        #Cargar el audio y su tasa de muestreo\n",
    "        audio, sr = librosa.load(archivo_audio)\n",
    "        duration = librosa.get_duration(y=audio, sr=sr)\n",
    "        sr = int(duration * sr)\n",
    "        t = np.linspace(0,1,sr)  \n",
    "        fft_result = np.fft.fft(audio)\n",
    "        fft_result /= (sr / 2)\n",
    "        fft_result = np.abs(fft_result)\n",
    "        fft_result = fft_result[:len(fft_result) // 2]\n",
    "        fft_result = fft_result[:f]\n",
    "        lista_freq.append(fft_result)\n",
    "\n",
    "    colFreqs = pd.concat([colFreqs,pd.Series(lista_freq)])\n",
    "    ruta = f\"Seleccion/Frecuencias/colFreqs{f}.json\"\n",
    "    colFreqs.to_json(ruta, index=False, orient='values')\n",
    "\n",
    "    ruta = f\"Seleccion/Frecuencias/labelFreqs{f}.csv\"\n",
    "    labelFreqs = pd.Series([\"Drone\" for _ in range(200)])\n",
    "    labelFreqs = pd.concat([labelFreqs, pd.Series([\"No Drone\" for _ in range(200)])])\n",
    "    labelFreqs.to_csv(ruta, index=False)"
   ]
  }
 ],
 "metadata": {
  "kernelspec": {
   "display_name": "Python 3",
   "language": "python",
   "name": "python3"
  },
  "language_info": {
   "codemirror_mode": {
    "name": "ipython",
    "version": 3
   },
   "file_extension": ".py",
   "mimetype": "text/x-python",
   "name": "python",
   "nbconvert_exporter": "python",
   "pygments_lexer": "ipython3",
   "version": "3.11.7"
  }
 },
 "nbformat": 4,
 "nbformat_minor": 2
}
