{
 "cells": [
  {
   "cell_type": "code",
   "execution_count": 1,
   "metadata": {},
   "outputs": [],
   "source": [
    "%run Proyecto_idDrRecursos.ipynb"
   ]
  },
  {
   "cell_type": "code",
   "execution_count": 2,
   "metadata": {},
   "outputs": [
    {
     "data": {
      "text/plain": [
       "array([[ 2.75, -1.  ,  7.25, -1.  ],\n",
       "       [-1.  ,  2.  ,  5.  ,  2.  ],\n",
       "       [ 7.25,  5.  , 56.75,  1.  ],\n",
       "       [-1.  ,  2.  ,  1.  , 10.  ]])"
      ]
     },
     "execution_count": 2,
     "metadata": {},
     "output_type": "execute_result"
    }
   ],
   "source": [
    "A = np.array([\n",
    "    [5, 4, 3, 5],\n",
    "    [4, 3, 5, 4],\n",
    "    [20, 10, 15, 18],\n",
    "    [14, 15, 17, 18]\n",
    "])\n",
    "\n",
    "mean_A = np.mean(A, axis=1).reshape((A.shape[0],-1))\n",
    "mean_A = np.tile(mean_A, (1, A.shape[1]))\n",
    "Z = A - mean_A\n",
    "Z_T = Z.T\n",
    "matrix_cov = Z @ Z_T\n",
    "matrix_cov"
   ]
  }
 ],
 "metadata": {
  "kernelspec": {
   "display_name": "Python 3",
   "language": "python",
   "name": "python3"
  },
  "language_info": {
   "codemirror_mode": {
    "name": "ipython",
    "version": 3
   },
   "file_extension": ".py",
   "mimetype": "text/x-python",
   "name": "python",
   "nbconvert_exporter": "python",
   "pygments_lexer": "ipython3",
   "version": "3.11.7"
  }
 },
 "nbformat": 4,
 "nbformat_minor": 2
}
