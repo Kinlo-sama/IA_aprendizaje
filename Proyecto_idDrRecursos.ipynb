{
 "cells": [
  {
   "cell_type": "code",
   "execution_count": 1,
   "metadata": {},
   "outputs": [],
   "source": [
    "try:\n",
    "    from ucimlrepo import fetch_ucirepo \n",
    "    import pandas as pd\n",
    "    import numpy as np  \n",
    "    from numpy.fft import fft\n",
    "    import random \n",
    "    from scipy.stats import mode\n",
    "    import glob\n",
    "    import os \n",
    "    import matplotlib.pyplot as plt\n",
    "    from rich import print as rprint\n",
    "    import sklearn \n",
    "    import librosa \n",
    "    import json \n",
    "except ImportError:\n",
    "    import subprocess\n",
    "    import sys\n",
    "    subprocess.check_call([sys.executable, '-m', 'pip', 'install', 'ucimlrepo', 'pandas', 'numpy', 'scipy', 'matplotlib', 'librosa', 'rich', 'sklearn', 'librosa' ])\n",
    "    # Una vez instaladas las bibliotecas, intenta importarlas nuevamente\n",
    "    from ucimlrepo import fetch_ucirepo \n",
    "    import pandas as pd\n",
    "    import numpy as np  \n",
    "    from numpy.fft import fft\n",
    "    from scipy.stats import mode\n",
    "    import librosa \n",
    "    import json "
   ]
  }
 ],
 "metadata": {
  "kernelspec": {
   "display_name": "Python 3",
   "language": "python",
   "name": "python3"
  },
  "language_info": {
   "codemirror_mode": {
    "name": "ipython",
    "version": 3
   },
   "file_extension": ".py",
   "mimetype": "text/x-python",
   "name": "python",
   "nbconvert_exporter": "python",
   "pygments_lexer": "ipython3",
   "version": "3.11.7"
  }
 },
 "nbformat": 4,
 "nbformat_minor": 2
}
