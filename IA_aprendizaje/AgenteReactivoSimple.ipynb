{
 "cells": [
  {
   "cell_type": "code",
   "execution_count": 3,
   "id": "57595899-5df0-43a7-8ad5-0a1d7d9df1f6",
   "metadata": {},
   "outputs": [
    {
     "name": "stdout",
     "output_type": "stream",
     "text": [
      "[(A,0) (B,0)]\n",
      "[(C,1) (D,0)]\n",
      "[(A,0) (B,0)]\n",
      "[(C,1) (D,0)]\n",
      "A\n",
      "Ambiente despues de la accion:\n",
      "[(A,0) (B,0)]\n",
      "[(C,1) (D,0)] A\n",
      "Ambiente despues de la accion:\n",
      "[(A,0) (B,0)]\n",
      "[(C,1) (D,0)] B\n",
      "Ambiente despues de la accion:\n",
      "[(A,0) (B,0)]\n",
      "[(C,1) (D,0)] B\n",
      "Ambiente despues de la accion:\n",
      "[(A,0) (B,0)]\n",
      "[(C,1) (D,0)] D\n",
      "Ambiente despues de la accion:\n",
      "[(A,0) (B,0)]\n",
      "[(C,1) (D,0)] D\n",
      "Ambiente despues de la accion:\n",
      "[(A,0) (B,0)]\n",
      "[(C,1) (D,0)] C\n",
      "Ambiente despues de la accion:\n",
      "[(A,0) (B,0)]\n",
      "[(C,0) (D,0)] C\n",
      "[('A', 0), ('A', 0), ('B', 0), ('B', 0), ('D', 0), ('D', 0), ('C', 1), ('C', 0)]\n"
     ]
    }
   ],
   "source": [
    "%run /home/kinlo/Documents/Proyecto/Recursos_dig/IA_aprendizaje/vacuum_world.ipynb"
   ]
  },
  {
   "cell_type": "code",
   "execution_count": 14,
   "id": "451a2a2b-f543-459f-9e17-d7123fed4a07",
   "metadata": {},
   "outputs": [
    {
     "name": "stdout",
     "output_type": "stream",
     "text": [
      "[(A,0) (B,1)]\n",
      "[(C,1) (D,1)]\n"
     ]
    }
   ],
   "source": [
    "env = VacuumWorld()\n",
    "print(env)"
   ]
  },
  {
   "cell_type": "code",
   "execution_count": 7,
   "id": "0916d0ef-dae1-48bb-b71a-4890e0357981",
   "metadata": {},
   "outputs": [],
   "source": [
    "class SimpleReflexAgent(object):\n",
    "    \"\"\"Agente reactivo simple\"\"\"\n",
    "    def __init__(self,location=None):\n",
    "        self.location = location\n",
    "        #No se guarda historia de percepciones\n",
    "\n",
    "    def decide(self):\n",
    "        \"\"\"Funcion de decisión basada en la percepcion actual\"\"\"\n",
    "        if self.location.dirt == 1:\n",
    "            self.location.dirt = 0\n",
    "            return \"Clean\"\n",
    "        else:\n",
    "            if self.location.name == \"A\":\n",
    "                self.location = self.location.right\n",
    "                return f\"Move to {self.location.name}\"\n",
    "            elif self.location.name == \"B\":\n",
    "                self.location = self.location.down\n",
    "                return f\"Move to {self.location.name}\"\n",
    "            elif self.location.name == \"C\":\n",
    "                self.location = self.location.up\n",
    "                return f\"Move to {self.location.name}\"\n",
    "            elif self.location.name == \"D\":\n",
    "                self.location = self.location.left\n",
    "                return f\"Move to {self.location.name}\""
   ]
  },
  {
   "cell_type": "code",
   "execution_count": 15,
   "id": "f4722fe6-9f34-4db2-bf16-e50fdfea1e4b",
   "metadata": {},
   "outputs": [
    {
     "name": "stdout",
     "output_type": "stream",
     "text": [
      "[(A,0) (B,1)]\n",
      "[(C,1) (D,1)]\n",
      "A\n"
     ]
    }
   ],
   "source": [
    "agent = SimpleReflexAgent(location=env.A)\n",
    "print(env)\n",
    "print(agent.location)"
   ]
  },
  {
   "cell_type": "code",
   "execution_count": 16,
   "id": "31cca639-c106-42dc-97f9-11fb04ce28ab",
   "metadata": {},
   "outputs": [
    {
     "name": "stdout",
     "output_type": "stream",
     "text": [
      "Move to B\n",
      "B\n",
      "[(A,0) (B,1)]\n",
      "[(C,1) (D,1)]\n",
      "Clean\n",
      "B\n",
      "[(A,0) (B,0)]\n",
      "[(C,1) (D,1)]\n",
      "Move to D\n",
      "D\n",
      "[(A,0) (B,0)]\n",
      "[(C,1) (D,1)]\n",
      "Clean\n",
      "D\n",
      "[(A,0) (B,0)]\n",
      "[(C,1) (D,0)]\n",
      "Move to C\n",
      "C\n",
      "[(A,0) (B,0)]\n",
      "[(C,1) (D,0)]\n",
      "Clean\n",
      "C\n",
      "[(A,0) (B,0)]\n",
      "[(C,0) (D,0)]\n"
     ]
    }
   ],
   "source": [
    "while not all([sq.dirt == 0 for sq in env.squares]):\n",
    "    print(agent.decide())\n",
    "    print(agent.location)\n",
    "    print(env)"
   ]
  }
 ],
 "metadata": {
  "kernelspec": {
   "display_name": "Python 3 (ipykernel)",
   "language": "python",
   "name": "python3"
  },
  "language_info": {
   "codemirror_mode": {
    "name": "ipython",
    "version": 3
   },
   "file_extension": ".py",
   "mimetype": "text/x-python",
   "name": "python",
   "nbconvert_exporter": "python",
   "pygments_lexer": "ipython3",
   "version": "3.10.13"
  }
 },
 "nbformat": 4,
 "nbformat_minor": 5
}
