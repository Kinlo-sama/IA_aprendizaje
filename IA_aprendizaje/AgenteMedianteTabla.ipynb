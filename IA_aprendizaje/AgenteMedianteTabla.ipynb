{
 "cells": [
  {
   "cell_type": "code",
   "execution_count": 1,
   "id": "ae45d4fe-480a-4874-be09-6e1c3ac3e06b",
   "metadata": {},
   "outputs": [
    {
     "name": "stdout",
     "output_type": "stream",
     "text": [
      "[(A,0) (B,0)]\n",
      "[(C,1) (D,0)]\n",
      "[(A,0) (B,0)]\n",
      "[(C,1) (D,0)]\n",
      "A\n",
      "Ambiente despues de la accion:\n",
      "[(A,0) (B,0)]\n",
      "[(C,1) (D,0)] A\n",
      "Ambiente despues de la accion:\n",
      "[(A,0) (B,0)]\n",
      "[(C,1) (D,0)] B\n",
      "Ambiente despues de la accion:\n",
      "[(A,0) (B,0)]\n",
      "[(C,1) (D,0)] B\n",
      "Ambiente despues de la accion:\n",
      "[(A,0) (B,0)]\n",
      "[(C,1) (D,0)] D\n",
      "Ambiente despues de la accion:\n",
      "[(A,0) (B,0)]\n",
      "[(C,1) (D,0)] D\n",
      "Ambiente despues de la accion:\n",
      "[(A,0) (B,0)]\n",
      "[(C,1) (D,0)] C\n",
      "Ambiente despues de la accion:\n",
      "[(A,0) (B,0)]\n",
      "[(C,0) (D,0)] C\n",
      "[('A', 0), ('A', 0), ('B', 0), ('B', 0), ('D', 0), ('D', 0), ('C', 1), ('C', 0)]\n"
     ]
    }
   ],
   "source": [
    "%run /home/kinlo/Documents/Proyecto/Recursos_dig/IA_aprendizaje/vacuum_world.ipynb"
   ]
  },
  {
   "cell_type": "code",
   "execution_count": 2,
   "id": "ccb6af4f-6ea3-4999-b599-00b8b5925dab",
   "metadata": {},
   "outputs": [],
   "source": [
    "#Parte II - Agente dirigdo mediante tabla*******************************************************"
   ]
  },
  {
   "cell_type": "code",
   "execution_count": 3,
   "id": "b6bb07f2-b9f6-4b38-9d2a-8c24c91b0fc6",
   "metadata": {},
   "outputs": [
    {
     "name": "stdout",
     "output_type": "stream",
     "text": [
      "[(A,0) (B,0)]\n",
      "[(C,1) (D,0)]\n"
     ]
    }
   ],
   "source": [
    "env = VacuumWorld()\n",
    "print(env)"
   ]
  },
  {
   "cell_type": "code",
   "execution_count": 4,
   "id": "70ed1b10-1639-4fe2-8d47-b0be6c23f6a4",
   "metadata": {},
   "outputs": [],
   "source": [
    "import random \n",
    "random.seed(12345)\n",
    "\n",
    "class TableDrivenAgent(VacuumWorld):\n",
    "    \"\"\"\n",
    "    Objeto agente\n",
    "    \"\"\"\n",
    "    def __init__(self,table,location=None):\n",
    "        \"\"\"\n",
    "        percept\n",
    "            Percepcion del agente, enlista las percepciones hasta el estado actual \n",
    "        table \n",
    "            Tabla de percepcion-accion\n",
    "        location\n",
    "            Lugar donde se localiza el agente\n",
    "        \"\"\"\n",
    "        self.location = location \n",
    "        self.perceptions = [(location.name,location.dirt)]\n",
    "        self.table = table\n",
    "\n",
    "    def decide(self):\n",
    "        \"\"\"\n",
    "        Simple funcion para ejecutar una accion a partir de \n",
    "        consultar la tabla\n",
    "        \"\"\"\n",
    "        action = self.table[self.perceptions[-1]]\n",
    "        if type(action) == list:\n",
    "            action = random.choice(action)\n",
    "        return action\n",
    "\n",
    "    def act(self,action):\n",
    "        \"\"\"Función para actual\"\"\"\n",
    "        if action == \"Clean\":\n",
    "            self.location.dirt = 0\n",
    "            self.perceptions.append((self.location.name,self.location.dirt))\n",
    "        elif action == \"Left\":\n",
    "            self.location = self.location.left\n",
    "            self.perceptions.append((self.location.name,self.location.dirt))\n",
    "        elif action == \"Right\":\n",
    "            self.location = self.location.right\n",
    "            self.perceptions.append((self.location.name,self.location.dirt))\n",
    "        elif action == \"Up\":\n",
    "            self.location = self.location.up\n",
    "            self.perceptions.append((self.location.name,self.location.dirt))\n",
    "        elif action == \"Down\":\n",
    "            self.location = self.location.down\n",
    "            self.perceptions.append((self.location.name,self.location.dirt))\n",
    "        else:\n",
    "            print(\"No es una accion permitida\")"
   ]
  },
  {
   "cell_type": "code",
   "execution_count": 5,
   "id": "68829ebf-b14b-40d2-a89c-2d6b40341481",
   "metadata": {},
   "outputs": [],
   "source": [
    "#tabla de percepciones \n",
    "table = {('A',1):'Clean', ('A',0):\"Right\",\n",
    "         ('B',1):'Clean', ('B',0):\"Down\",\n",
    "         ('C',1):'Clean', ('C',0):\"Up\",\n",
    "         ('D',1):'Clean', ('D',0):\"Left\"}"
   ]
  },
  {
   "cell_type": "code",
   "execution_count": 6,
   "id": "d852255a-49a8-4bc1-bca1-31f6b2a7876a",
   "metadata": {},
   "outputs": [
    {
     "name": "stdout",
     "output_type": "stream",
     "text": [
      "[('A', 0)]\n"
     ]
    }
   ],
   "source": [
    "agent = TableDrivenAgent(table=table,location=env.A)\n",
    "print(agent.perceptions)"
   ]
  },
  {
   "cell_type": "code",
   "execution_count": 7,
   "id": "55612019-7a43-46dc-89e9-7a5cc20474ce",
   "metadata": {},
   "outputs": [
    {
     "name": "stdout",
     "output_type": "stream",
     "text": [
      "Ambiente despues de la accion Right:\n",
      "[(A,0) (B,0)]\n",
      "[(C,1) (D,0)] B\n",
      "\n",
      "Ambiente despues de la accion Down:\n",
      "[(A,0) (B,0)]\n",
      "[(C,1) (D,0)] D\n",
      "\n",
      "Ambiente despues de la accion Left:\n",
      "[(A,0) (B,0)]\n",
      "[(C,1) (D,0)] C\n",
      "\n",
      "Ambiente despues de la accion Clean:\n",
      "[(A,0) (B,0)]\n",
      "[(C,0) (D,0)] C\n",
      "\n",
      "Ambiente despues de la accion Up:\n",
      "[(A,0) (B,0)]\n",
      "[(C,0) (D,0)] A\n",
      "\n"
     ]
    }
   ],
   "source": [
    "action = agent.decide()\n",
    "agent.act(action=action)\n",
    "print(f\"Ambiente despues de la accion {action}:\\n{env} {agent.location}\\n\")\n",
    "\n",
    "action = agent.decide()\n",
    "agent.act(action=action)\n",
    "print(f\"Ambiente despues de la accion {action}:\\n{env} {agent.location}\\n\")\n",
    "\n",
    "action = agent.decide()\n",
    "agent.act(action=action)\n",
    "print(f\"Ambiente despues de la accion {action}:\\n{env} {agent.location}\\n\")\n",
    "\n",
    "action = agent.decide()\n",
    "agent.act(action=action)\n",
    "print(f\"Ambiente despues de la accion {action}:\\n{env} {agent.location}\\n\")\n",
    "\n",
    "action = agent.decide()\n",
    "agent.act(action=action)\n",
    "print(f\"Ambiente despues de la accion {action}:\\n{env} {agent.location}\\n\")"
   ]
  }
 ],
 "metadata": {
  "kernelspec": {
   "display_name": "Python 3 (ipykernel)",
   "language": "python",
   "name": "python3"
  },
  "language_info": {
   "codemirror_mode": {
    "name": "ipython",
    "version": 3
   },
   "file_extension": ".py",
   "mimetype": "text/x-python",
   "name": "python",
   "nbconvert_exporter": "python",
   "pygments_lexer": "ipython3",
   "version": "3.10.13"
  }
 },
 "nbformat": 4,
 "nbformat_minor": 5
}
