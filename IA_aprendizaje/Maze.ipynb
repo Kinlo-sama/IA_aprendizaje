{
 "cells": [
  {
   "cell_type": "code",
   "execution_count": 1,
   "id": "1a3aa9ac-e458-46bc-97f6-66975b4081be",
   "metadata": {},
   "outputs": [],
   "source": [
    "class Maze(object):\n",
    "    \"\"\"Simulador de laberinto\"\"\"\n",
    "    def __init__(self,board):\n",
    "        #Define el laberinto \n",
    "        self.board = [list(x) for x in board.split(\"\\n\") if x]\n",
    "        #Guarda el estado inicial \n",
    "        self.goal = None\n",
    "\n",
    "        for y in range(len(self.board)):\n",
    "            for x in range(len(self.board[y])):\n",
    "                if self.board[y][x] == 'o':\n",
    "                    #El inicial es el estado con el simbolo 'o' \n",
    "                    self.initial = (x,y)\n",
    "                elif self.board[y][x] == 'x':\n",
    "                    #La meta es el estado con el simbolo 'x'\n",
    "                    self.goal = (x,y)\n",
    "\n",
    "    def __str__(self):\n",
    "        return '\\n'.join([''.join(symbols) for symbols in self.board])\n",
    "\n",
    "    def actions(self, state):\n",
    "        \"\"\"Define las posibles acciones permitidas en cada estado\"\"\"\n",
    "        actions = []\n",
    "        for action in [\"up\",\"down\",\"left\",\"right\"]:\n",
    "            newx, newy = self.result(state,action)\n",
    "            #Una acción no permitida es aquella donde se \n",
    "            #topa con un simbolo # que indica pared\n",
    "            if self.board[newy][newx] != \"#\":\n",
    "                actions.append(action)\n",
    "        return actions\n",
    "\n",
    "    def result(self,state, action):\n",
    "        \"\"\"Calcula el estado resultante de la acción\"\"\"\n",
    "        #Determina el estado actual \n",
    "        x,y = state\n",
    "        #Genera el resultado de las acciones\n",
    "        if action.count(\"up\"):\n",
    "            y -= 1\n",
    "        if action.count(\"down\"):\n",
    "            y += 1\n",
    "        if action.count(\"left\"):\n",
    "            x -= 1\n",
    "        if action.count(\"right\"):\n",
    "            x += 1\n",
    "        new_state = (x,y)\n",
    "        return new_state\n",
    "\n",
    "    def move(self, state, new_state, symbol = 'o'):\n",
    "        \"\"\"Cambia la psición del agente de un estado a otro\"\"\"\n",
    "        x,y = state\n",
    "        new_x, new_y = new_state\n",
    "        if self.board[new_y][new_x] == ' ':\n",
    "            #Mueve al agente al mismo estado\n",
    "            self.board[y][x] = ' '\n",
    "            self.board[new_y][new_x] = symbol\n",
    "        else:\n",
    "            pass\n",
    "\n",
    "    def draw(self):\n",
    "        \"\"\"Dibuja el mapa\"\"\"\n",
    "        import matplotlib.pyplot as plt\n",
    "        import numpy as np \n",
    "        #Crea la imagen \n",
    "        img = np.ones((len(self.board), len(self.board[0]),4)) #(x,y) x 4 -> 3D\n",
    "        for i,row in enumerate(self.board):\n",
    "            for j, element in enumerate(row):\n",
    "                #Colorea al agente de azul, la meta de verde y los \n",
    "                #obstáculos de negro\n",
    "                if element == '#':\n",
    "                    img[i,j] = np.array([0,0,0,1])\n",
    "                elif element == 'o':\n",
    "                    img[i,j] = np.array([0.2,0.5,0.8,1])\n",
    "                elif element == 'x':\n",
    "                    img[i,j] = np.array([0.2,0.9,0.5,1])\n",
    "\n",
    "        plt.imshow(img)\n",
    "        plt.show()\n",
    "\n",
    "    def is_goal(self, state):\n",
    "        \"\"\"Determina si un estado es meta\"\"\"\n",
    "        return state == self.goal\n",
    "\n"
   ]
  },
  {
   "cell_type": "code",
   "execution_count": 2,
   "id": "8423c963-5a40-487b-ac15-6e9ae254b28c",
   "metadata": {},
   "outputs": [],
   "source": [
    "mapa = \"\"\"\n",
    "##############################\n",
    "# o         #              # #\n",
    "######  #   ##########  #  # #\n",
    "#       #   ##          #    #\n",
    "#  #           #   #####     x\n",
    "##############################\n",
    "\"\"\"    "
   ]
  },
  {
   "cell_type": "code",
   "execution_count": 3,
   "id": "bc4d28ce-1d6b-4995-bf5a-d89d6aa70437",
   "metadata": {},
   "outputs": [
    {
     "data": {
      "image/png": "[encoded data removed]",
      "text/plain": [
       "<Figure size 640x480 with 1 Axes>"
      ]
     },
     "metadata": {},
     "output_type": "display_data"
    },
    {
     "name": "stdout",
     "output_type": "stream",
     "text": [
      "Coordenadas inicial: (2, 1)\n",
      "Coordenadas meta:(29, 4)\n"
     ]
    }
   ],
   "source": [
    "maze = Maze(mapa)\n",
    "maze.draw()\n",
    "print(f\"Coordenadas inicial: {maze.initial}\\nCoordenadas meta:{maze.goal}\") "
   ]
  },
  {
   "cell_type": "code",
   "execution_count": 4,
   "id": "fd7fd6f0-0bb8-496c-9c81-7575afa46d5c",
   "metadata": {},
   "outputs": [
    {
     "data": {
      "image/png": "[encoded data removed]",
      "text/plain": [
       "<Figure size 640x480 with 1 Axes>"
      ]
     },
     "metadata": {},
     "output_type": "display_data"
    },
    {
     "data": {
      "image/png": "[encoded data removed]",
      "text/plain": [
       "<Figure size 640x480 with 1 Axes>"
      ]
     },
     "metadata": {},
     "output_type": "display_data"
    }
   ],
   "source": [
    "new_state = maze.result(maze.initial, \"right\")\n",
    "maze.move(maze.initial, new_state)\n",
    "maze.draw()\n",
    "maze.move(new_state, maze.result(new_state,\"right\"))\n",
    "maze.draw()"
   ]
  }
 ],
 "metadata": {
  "kernelspec": {
   "display_name": "Python 3 (ipykernel)",
   "language": "python",
   "name": "python3"
  },
  "language_info": {
   "codemirror_mode": {
    "name": "ipython",
    "version": 3
   },
   "file_extension": ".py",
   "mimetype": "text/x-python",
   "name": "python",
   "nbconvert_exporter": "python",
   "pygments_lexer": "ipython3",
   "version": "3.11.7"
  }
 },
 "nbformat": 4,
 "nbformat_minor": 5
}
