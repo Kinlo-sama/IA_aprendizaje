{
 "cells": [
  {
   "cell_type": "code",
   "execution_count": 2,
   "metadata": {},
   "outputs": [],
   "source": [
    "import numpy as np \n",
    "\n",
    "class Node(object):\n",
    "    \"\"\"Clase para nodos en la red bayesiana\"\"\"\n",
    "    def __init__(self, name, cpt, parents=None) -> None:\n",
    "        #Se asigna un nombre de variable \n",
    "        self.name = name\n",
    "        #Se determinan sus padres (condicionales)\n",
    "        self.parents = parents\n",
    "        #Se asigna la tabla de probabilidad condicional de la variable \n",
    "        self.cpt = cpt\n",
    "    \n",
    "    def __str__(self) -> str:\n",
    "        return f\"{self.name}\\n{self.cpt}\"\n",
    "    "
   ]
  },
  {
   "cell_type": "code",
   "execution_count": null,
   "metadata": {},
   "outputs": [],
   "source": [
    "class MonteyNet"
   ]
  }
 ],
 "metadata": {
  "kernelspec": {
   "display_name": "Python 3",
   "language": "python",
   "name": "python3"
  },
  "language_info": {
   "codemirror_mode": {
    "name": "ipython",
    "version": 3
   },
   "file_extension": ".py",
   "mimetype": "text/x-python",
   "name": "python",
   "nbconvert_exporter": "python",
   "pygments_lexer": "ipython3",
   "version": "3.11.7"
  }
 },
 "nbformat": 4,
 "nbformat_minor": 2
}
