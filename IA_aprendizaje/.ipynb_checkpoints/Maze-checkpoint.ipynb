{
 "cells": [
  {
   "cell_type": "code",
   "execution_count": null,
   "id": "1a3aa9ac-e458-46bc-97f6-66975b4081be",
   "metadata": {},
   "outputs": [],
   "source": [
    "class Maze(object):\n",
    "    \"\"\"Simulador de laberinto\"\"\"\n",
    "    def __init__(self,board):\n",
    "        #Define el laberinto \n",
    "        self.board = [list(x) for x in board.split(\"\\n\") if x]\n",
    "        #Guarda el estado inicial \n",
    "        self.goal = None\n",
    "\n",
    "        for y in range(len(self.board)):\n",
    "            for x in range(len(self.board[y])):\n",
    "                if self.board[y][x] == 'o':\n",
    "                    #El inicial es el estado con el simbolo 'o' \n",
    "                    self.initial = (x,y)\n",
    "                elif self.board[y][x] == 'x':\n",
    "                    #La meta es el estado con el simbolo 'x'\n",
    "                    self.goal = (x,y)\n",
    "\n",
    "    def __str__(self):\n",
    "        return '\\n'.join([''.join(symbols) for symbols in self.board])\n",
    "\n",
    "    def actions(self,state):\n",
    "        \"\"\"Define las posibles acciones permitidas en cada estado\"\"\"\n",
    "        actions = []\n",
    "        for action in [\"up\",\"down\",\"left\",\"right\"]:\n",
    "            newx, newy = self.result(state,action)\n",
    "            #Una acción no permitida es aquella donde se \n",
    "            #topa con un simbolo # que indica pared\n",
    "            if self.bord[newy][newx] != \"#\":\n",
    "                actions.append(action)\n",
    "        return actions\n",
    "\n",
    "    def result(self,state,action):\n",
    "        "
   ]
  }
 ],
 "metadata": {
  "kernelspec": {
   "display_name": "Python 3 (ipykernel)",
   "language": "python",
   "name": "python3"
  },
  "language_info": {
   "codemirror_mode": {
    "name": "ipython",
    "version": 3
   },
   "file_extension": ".py",
   "mimetype": "text/x-python",
   "name": "python",
   "nbconvert_exporter": "python",
   "pygments_lexer": "ipython3",
   "version": "3.10.13"
  }
 },
 "nbformat": 4,
 "nbformat_minor": 5
}
