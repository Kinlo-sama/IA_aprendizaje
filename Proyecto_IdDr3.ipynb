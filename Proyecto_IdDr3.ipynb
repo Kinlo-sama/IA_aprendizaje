{
 "cells": [
  {
   "cell_type": "markdown",
   "metadata": {},
   "source": [
    "# **Librerias Necesarias**"
   ]
  },
  {
   "cell_type": "code",
   "execution_count": 1,
   "metadata": {},
   "outputs": [],
   "source": [
    "%run Proyecto_idDrRecursos.ipynb"
   ]
  },
  {
   "cell_type": "markdown",
   "metadata": {},
   "source": [
    "#### **Extracción de amplitutedes de las primeras 6000 frecuencias de autos con y sin presencia de Dron**"
   ]
  },
  {
   "cell_type": "code",
   "execution_count": 7,
   "metadata": {},
   "outputs": [
    {
     "name": "stdout",
     "output_type": "stream",
     "text": [
      "0      [0.0010359585285186768, 0.0008244708832539686,...\n",
      "1      [0.0007228180766105652, 0.0008976413584896404,...\n",
      "2      [0.0007809214293956757, 0.0008787166725674775,...\n",
      "3      [0.0008277595043182373, 0.0012976072856531794,...\n",
      "4      [4.363059997558594e-05, 6.313840466899019e-05,...\n",
      "                             ...                        \n",
      "195    [0.00235089324860776, 0.0005008345247371231, 0...\n",
      "196    [0.00010181030186354542, 0.0001553347123103577...\n",
      "197    [7.950178205508745e-05, 0.00043365573739162684...\n",
      "198    [4.1737178474381463e-05, 7.162673341514095e-06...\n",
      "199    [0.001190532802094039, 0.00014726675460227496,...\n",
      "Length: 400, dtype: object 0         Drone\n",
      "1         Drone\n",
      "2         Drone\n",
      "3         Drone\n",
      "4         Drone\n",
      "         ...   \n",
      "195    No Drone\n",
      "196    No Drone\n",
      "197    No Drone\n",
      "198    No Drone\n",
      "199    No Drone\n",
      "Length: 400, dtype: object\n"
     ]
    }
   ],
   "source": [
    "carpeta_audios = \"./Seleccion/Drone/*\"\n",
    "\n",
    "lista_freq = []\n",
    "\n",
    "for archivo_audio in glob.glob(carpeta_audios):\n",
    "    #Cargar el audio y su tasa de muestreo\n",
    "    audio, sr = librosa.load(archivo_audio, sr=None)\n",
    "    duration = librosa.get_duration(y=audio, sr=sr)\n",
    "    sr = int(duration * sr)\n",
    "    t = np.linspace(0,1,sr)  \n",
    "    fft_result = np.fft.fft(audio)\n",
    "    fft_result /= (sr / 2)\n",
    "    fft_result = np.abs(fft_result)\n",
    "    fft_result = fft_result[:len(fft_result) // 2]\n",
    "    fft_result = fft_result[:6000]\n",
    "    lista_freq.append(fft_result)\n",
    "\n",
    "colFreqs = pd.Series(lista_freq)\n",
    "\n",
    "carpeta_audios = \"./Seleccion/Drone_unknown/*\"\n",
    "lista_freq = []\n",
    "\n",
    "for archivo_audio in glob.glob(carpeta_audios):\n",
    "    #Cargar el audio y su tasa de muestreo\n",
    "    audio, sr = librosa.load(archivo_audio)\n",
    "    duration = librosa.get_duration(y=audio, sr=sr)\n",
    "    sr = int(duration * sr)\n",
    "    t = np.linspace(0,1,sr)  \n",
    "    fft_result = np.fft.fft(audio)\n",
    "    fft_result /= (sr / 2)\n",
    "    fft_result = np.abs(fft_result)\n",
    "    fft_result = fft_result[:len(fft_result) // 2]\n",
    "    fft_result = fft_result[:6000]\n",
    "    lista_freq.append(fft_result)\n",
    "\n",
    "colFreqs = pd.concat([colFreqs,pd.Series(lista_freq)])\n",
    "ruta = \"Seleccion/colFreqs6000.json\"\n",
    "colFreqs.to_json(ruta, index=False, orient='values')\n",
    "\n",
    "ruta = \"Seleccion/labelFreqs6000.csv\"\n",
    "labelFreqs = pd.Series([\"Drone\" for _ in range(200)])\n",
    "labelFreqs = pd.concat([labelFreqs, pd.Series([\"No Drone\" for _ in range(200)])])\n",
    "labelFreqs.to_csv(ruta, index=False)\n",
    "print(colFreqs,labelFreqs)\n"
   ]
  }
 ],
 "metadata": {
  "kernelspec": {
   "display_name": "Python 3",
   "language": "python",
   "name": "python3"
  },
  "language_info": {
   "codemirror_mode": {
    "name": "ipython",
    "version": 3
   },
   "file_extension": ".py",
   "mimetype": "text/x-python",
   "name": "python",
   "nbconvert_exporter": "python",
   "pygments_lexer": "ipython3",
   "version": "3.11.2"
  }
 },
 "nbformat": 4,
 "nbformat_minor": 2
}
