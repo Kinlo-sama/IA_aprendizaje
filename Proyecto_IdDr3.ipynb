{
 "cells": [
  {
   "cell_type": "markdown",
   "metadata": {},
   "source": [
    "# **Librerias Necesarias**"
   ]
  },
  {
   "cell_type": "code",
   "execution_count": 2,
   "metadata": {},
   "outputs": [],
   "source": [
    "%run Proyecto_idDrRecursos.ipynb"
   ]
  },
  {
   "cell_type": "markdown",
   "metadata": {},
   "source": [
    "#### **Extracción de amplitutedes de las primeras 6000 frecuencias de autos con y sin presencia de Dron**"
   ]
  },
  {
   "cell_type": "code",
   "execution_count": 3,
   "metadata": {},
   "outputs": [
    {
     "name": "stdout",
     "output_type": "stream",
     "text": [
      "0      [0.0003146699685508522, 0.00039866793127779187...\n",
      "1      [0.0011970665082740714, 0.0015289815442257656,...\n",
      "2      [9.05403743653315e-05, 1.0476381124260579e-05,...\n",
      "3      [0.0006944710154711636, 0.0005491509664671778,...\n",
      "4      [0.0005097624650814852, 0.000400439556746646, ...\n",
      "                             ...                        \n",
      "195    [0.0031993395046750073, 0.0029205628867839195,...\n",
      "196    [1.398784033534594e-05, 1.3061281334972435e-05...\n",
      "197    [2.4750776343315604e-05, 7.918899372201168e-06...\n",
      "198    [0.0009572262418729235, 0.0007837742071831286,...\n",
      "199    [0.00044464118692539396, 2.598244913882461e-05...\n",
      "Length: 400, dtype: object 0         Drone\n",
      "1         Drone\n",
      "2         Drone\n",
      "3         Drone\n",
      "4         Drone\n",
      "         ...   \n",
      "195    No Drone\n",
      "196    No Drone\n",
      "197    No Drone\n",
      "198    No Drone\n",
      "199    No Drone\n",
      "Length: 400, dtype: object\n"
     ]
    }
   ],
   "source": [
    "carpeta_audios = \"./Seleccion/Drone/*\"\n",
    "\n",
    "lista_freq = []\n",
    "\n",
    "for archivo_audio in glob.glob(carpeta_audios):\n",
    "    #Cargar el audio y su tasa de muestreo\n",
    "    audio, sr = librosa.load(archivo_audio)\n",
    "    duration = librosa.get_duration(y=audio, sr=sr)\n",
    "    sr = int(duration * sr)\n",
    "    t = np.linspace(0,1,sr)  \n",
    "    fft_result = np.fft.fft(audio)\n",
    "    fft_result /= (sr / 2)\n",
    "    fft_result = np.abs(fft_result)\n",
    "    fft_result = fft_result[:len(fft_result) // 2]\n",
    "    fft_result = fft_result[:6000]\n",
    "    lista_freq.append(fft_result)\n",
    "\n",
    "colFreqs = pd.Series(lista_freq)\n",
    "\n",
    "carpeta_audios = \"./Seleccion/Drone_unknown/*\"\n",
    "lista_freq = []\n",
    "\n",
    "for archivo_audio in glob.glob(carpeta_audios):\n",
    "    #Cargar el audio y su tasa de muestreo\n",
    "    audio, sr = librosa.load(archivo_audio)\n",
    "    duration = librosa.get_duration(y=audio, sr=sr)\n",
    "    sr = int(duration * sr)\n",
    "    t = np.linspace(0,1,sr)  \n",
    "    fft_result = np.fft.fft(audio)\n",
    "    fft_result /= (sr / 2)\n",
    "    fft_result = np.abs(fft_result)\n",
    "    fft_result = fft_result[:len(fft_result) // 2]\n",
    "    fft_result = fft_result[:6000]\n",
    "    lista_freq.append(fft_result)\n",
    "\n",
    "colFreqs = pd.concat([colFreqs,pd.Series(lista_freq)])\n",
    "ruta = \"Seleccion/colFreqs6000.json\"\n",
    "colFreqs.to_json(ruta, index=False, orient='values')\n",
    "\n",
    "ruta = \"Seleccion/labelFreqs6000.csv\"\n",
    "labelFreqs = pd.Series([\"Drone\" for _ in range(200)])\n",
    "labelFreqs = pd.concat([labelFreqs, pd.Series([\"No Drone\" for _ in range(200)])])\n",
    "labelFreqs.to_csv(ruta, index=False)\n",
    "print(colFreqs,labelFreqs)\n"
   ]
  }
 ],
 "metadata": {
  "kernelspec": {
   "display_name": "Python 3",
   "language": "python",
   "name": "python3"
  },
  "language_info": {
   "codemirror_mode": {
    "name": "ipython",
    "version": 3
   },
   "file_extension": ".py",
   "mimetype": "text/x-python",
   "name": "python",
   "nbconvert_exporter": "python",
   "pygments_lexer": "ipython3",
   "version": "3.11.7"
  }
 },
 "nbformat": 4,
 "nbformat_minor": 2
}
