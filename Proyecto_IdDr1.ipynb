{
 "cells": [
  {
   "cell_type": "markdown",
   "metadata": {},
   "source": [
    "# **Librerias Necesarias**"
   ]
  },
  {
   "cell_type": "code",
   "execution_count": 1,
   "metadata": {},
   "outputs": [],
   "source": [
    "%run Proyecto_idDrRecursos.ipynb"
   ]
  },
  {
   "cell_type": "markdown",
   "metadata": {},
   "source": [
    "**Instalación de librerias necesarias dado caso de no tenerlas instaladas** "
   ]
  },
  {
   "cell_type": "markdown",
   "metadata": {},
   "source": [
    "**Algoritmo kNN**\n",
    "\n",
    "Implementación del algoritmo kNN usando una base de datos llamada Iris la cual nos proporciona sus respectivas etiquetas para cada clase, lo que por ende nos llevo a elegir el algoritmo kNN ya que este algoritmo es un algoritmo de aprendizaje supervisado"
   ]
  },
  {
   "cell_type": "code",
   "execution_count": null,
   "metadata": {},
   "outputs": [],
   "source": [
    "#Configuraciones para no truncar la salida  ***************\n",
    "pd.set_option('display.max_rows', None)\n",
    "\n",
    "#sintaxis ->    DataFrame.iloc[fila,columna] \n",
    "# fetch dataset \n",
    "iris = fetch_ucirepo(id=53) \n",
    "  \n",
    "# data (as pandas dataframes) \n",
    "data_num = iris.data.features #Caracteristicas \n",
    "data_label = iris.data.targets  #Objetivos\n",
    "\n",
    "#Porcentaje 50 \n",
    "percent_query = 20\n",
    "total = len(data_num)\n",
    "k = 3\n",
    "#Datos \n",
    "\n",
    "#Query\n",
    "nume_samples_query = int((len(data_num) * percent_query)/100)                       #Numero de muestras con respecto al porcentanje         \n",
    "query_index_samples = random.sample(list(range(0,149)),nume_samples_query)          #Escogemos los indices de query aleatoriamente sin remplazo\n",
    "query_index_samples.sort()                                                          #Ordenamos \n",
    "query_samples = data_num.iloc[query_index_samples]                                  #seleccionamos de data_num con respecto a los indices encontrados \n",
    "#    Training\n",
    "#Agregar inplace como True para eliminar de la original \n",
    "training_samples = data_num.drop(query_index_samples)                               #Escogemos los indices faltantes\n",
    "\n",
    "#Label \n",
    "query_samples_label = data_label.iloc[query_index_samples]                          #iloc -> [] usando los indices antes encontrados para query\n",
    "training_samples_label = data_label.drop(query_index_samples)                       #Escogemos los indices faltantes \n",
    "\n",
    "\n",
    "cols_dn = len(data_num.columns)                                                     #Columnas de data_num\n",
    "size_ts = len(training_samples)                                                     #Size de training_samples\n",
    "size_q  = len(query_samples)                                                        #Size de query\n",
    "k_DI = []                                                                           #Aqui se almacenan las k distancias mas pequeñas                                                                             #\n",
    "for j in range(size_q):                                                             #iteramos por todos los elementos de la query\n",
    "    Q = np.tile(query_samples.iloc[j,:],(training_samples.shape[0],1))              #Igual que 'repmat'\n",
    "    Z = Q - training_samples                                                        #\n",
    "    S_with_garbage = Z @ Z.T                                                        #puede usar tambien np.dot(m1,m2)\n",
    "    distancia_S = np.diag(S_with_garbage) ** (1 / 2)                                #Obtener la diagonal y elevar sus elem a 1/2\n",
    "    \n",
    "    sort_index = np.argsort(distancia_S)                                            #Obtener los indices ordenados\n",
    "    \n",
    "    k_index = sort_index[:k]                                                        #Seleccionamos los k primeros\n",
    "    k_dis = distancia_S[k_index]                                                    #Almacenamos las k distancias minimas\n",
    "\n",
    "    mode_k_dis = mode(k_dis)[0]                                                     #mode retorna (moda, repeticiones)\n",
    "    index_mode = np.where(distancia_S == mode_k_dis)[0][0]                          #buscamos indice en distancia_S de mode_k_dis\n",
    "    \"\"\"\n",
    "    index_mode1 = 0                                                                 #La primera forma que se me ocurrio de hacerlo\n",
    "    for i in k_index:                                                               #luego encontre la solución de arriba\n",
    "        if distancia_S[i] == mode_k_dis:\n",
    "            index_mode = i\n",
    "            break\n",
    "    print(distancia_S[index_mode],distancia_S[index_mode1])\n",
    "    \"\"\"\n",
    "    k_DI.append(index_mode) \n",
    "\n",
    "contError = 0\n",
    "for i in range(len(query_samples_label)):\n",
    "    print(f\"Label {i} en query:{query_samples_label.iloc[i]}\")\n",
    "    print(f\"Valor dado por kNN:{training_samples_label.iloc[k_DI[i]]}\\n\")\n",
    "    if str(query_samples_label.iloc[i]) != str(training_samples_label.iloc[k_DI[i]]):\n",
    "        contError += 1\n",
    "\n",
    "percent_success = (total - contError) * (100 / total)"
   ]
  },
  {
   "cell_type": "markdown",
   "metadata": {},
   "source": [
    "**Visualización del porcentaje de exito del algoritmo kNN**"
   ]
  },
  {
   "cell_type": "code",
   "execution_count": 3,
   "metadata": {},
   "outputs": [
    {
     "name": "stdout",
     "output_type": "stream",
     "text": [
      "Porcentaje query: 20\n",
      "Porcentaje exito: 80.0\n",
      "k: 3\n",
      "\n"
     ]
    }
   ],
   "source": [
    "print(f\"Porcentaje query: {percent_query}\\n\",\n",
    "    f\"Porcentaje exito: {percent_success}\\n\",\n",
    "    f\"k: {k}\\n\", sep=\"\")"
   ]
  }
 ],
 "metadata": {
  "kernelspec": {
   "display_name": "Python 3",
   "language": "python",
   "name": "python3"
  },
  "language_info": {
   "codemirror_mode": {
    "name": "ipython",
    "version": 3
   },
   "file_extension": ".py",
   "mimetype": "text/x-python",
   "name": "python",
   "nbconvert_exporter": "python",
   "pygments_lexer": "ipython3",
   "version": "3.11.7"
  }
 },
 "nbformat": 4,
 "nbformat_minor": 2
}
