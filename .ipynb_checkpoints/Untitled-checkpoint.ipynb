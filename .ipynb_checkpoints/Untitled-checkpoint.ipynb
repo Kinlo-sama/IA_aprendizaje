{
 "cells": [
  {
   "cell_type": "code",
   "execution_count": 3,
   "id": "7549783d-0dcd-4711-95e9-719bfc36f559",
   "metadata": {},
   "outputs": [],
   "source": [
    "#Creacion de cuartos\n",
    "class Square(object):\n",
    "    def __init__(self,name):\n",
    "        \"\"\"\n",
    "         Creamos un objeto square, que representa los cuadrados del ambiente\n",
    "         Argumentos \n",
    "         ----------\n",
    "         name : str\n",
    "             Nombre del cuadrado( 'A', 'B', etc. )\n",
    "        \"\"\"\n",
    "        self.name = name\n",
    "        self.dirt = 0\n",
    "\n",
    "        #Hasta que no se le coloque con cuadrados vecinos, los movimientos no llevana  ningun lado\n",
    "        self.left = self\n",
    "        self.right = self\n",
    "        self.up = self\n",
    "        self.down = self\n",
    "\n",
    "    def __str__(self):\n",
    "        return self.name\n",
    "        "
   ]
  },
  {
   "cell_type": "code",
   "execution_count": 8,
   "id": "0173b19f-7b7f-47d4-aba0-fa5fb9b54593",
   "metadata": {},
   "outputs": [],
   "source": [
    "import random\n",
    "random.seed(12345)\n",
    "\n",
    "class VacuumWorld(object):\n",
    "    def __init__(self, dirt_init = \"random\"):\n",
    "        \"\"\"\n",
    "        Objeto que crea el ambiente para el mundo de la aspiradora:\n",
    "        Se conforma de:\n",
    "        -Dos cuadrados: A y B (A a la izquierda de B)\n",
    "        -Indicadores de la limpieza (0) o suciedad (1) de los cuadrados \n",
    "\n",
    "        Argumentos \n",
    "        ----------\n",
    "        dirt_init : str\n",
    "            Forma en que se inicializara la suciedades de los cuadrados \n",
    "        \"\"\"\n",
    "        self.squares = []\n",
    "        self.A,self.B,self.C,self.D = Square(\"A\"),Square(\"B\"),Square(\"C\"),Square(\"D\")\n",
    "        self.squares.append(self.A)\n",
    "        self.squares.append(self.B)\n",
    "        self.squares.append(self.C)\n",
    "        self.squares.append(self.D)\n",
    "\n",
    "        #Configuración de los cuartos\n",
    "        self.A.left,self.A.right,self.A.up,self.A.down = self.A,self.B,self.A,self.C\n",
    "        self.B.left,self.B.right,self.B.up,self.B.down = self.A,self.B,self.B,self.D\n",
    "        self.C.left,self.C.right,self.C.up,self.C.down = self.C,self.D,self.A,self.C\n",
    "        self.D.left,self.D.right,self.D.up,self.D.down = self.C,self.D,self.B,self.D\n",
    "\n",
    "        #Inicialización de la suciedad \n",
    "        self.dirt_init = dirt_init\n",
    "        self.initialize_dirt()\n",
    "\n",
    "    def __str__(self):\n",
    "        return \"[({},{}) ({},{})]\\n[({},{}) ({},{})]\".format(self.A.name,self.A.dirt,\n",
    "                                                             self.B.name,self.B.dirt,\n",
    "                                                             self.C.name,self.C.dirt,\n",
    "                                                             self.D.name,self.D.dirt)\n",
    "\n",
    "    def initialize_dirt(self):\n",
    "        \"\"\"\n",
    "        Inicializa la suciedad de los cuadrados:\n",
    "\n",
    "        Opciones (se indican en init)\n",
    "        --------\n",
    "        random : Inicializa con uno de los cuadrados sucios y otro limpio de forma aleatoria\n",
    "        dirty  : Inicializa con los dos cuadrados sucios\n",
    "        clear  : Inicializa con los dos cuadrados limpios \n",
    "        \"\"\"\n",
    "        if self.dirt_init == \"random\":\n",
    "            for square in self.squares:\n",
    "                if random.random() > 0.5:\n",
    "                    square.dirt = 1\n",
    "                else:\n",
    "                    square.dirt = 0\n",
    "        elif selft.dirt_init == \"dirty\":\n",
    "            for square in self.squares:\n",
    "                square.dirt = 1\n",
    "\n",
    "        else:\n",
    "            for square, value in zip(self.squares, self.dirt_init):\n",
    "                square.dirt = value\n",
    "\n"
   ]
  },
  {
   "cell_type": "code",
   "execution_count": 16,
   "id": "f75ab6f2-e568-47c4-b59f-db448a6bc231",
   "metadata": {},
   "outputs": [
    {
     "name": "stdout",
     "output_type": "stream",
     "text": [
      "[(A,0) (B,1)]\n",
      "[(C,1) (D,1)]\n"
     ]
    }
   ],
   "source": [
    "env = VacuumWorld(dirt_init = \"random\")\n",
    "print(env)"
   ]
  },
  {
   "cell_type": "code",
   "execution_count": 19,
   "id": "f80f9a6f-ecaf-4873-b884-93913eb2a5b7",
   "metadata": {},
   "outputs": [],
   "source": [
    "class Agent(VacuumWorld):\n",
    "    \"\"\"\n",
    "    Agente de aspiradora. Cuyas acciones son limpiar, o moverse en las cuatro direcciones. \n",
    "    Asimismo, el agente guarda una secuencia de percepciones.\n",
    "    \"\"\"\n",
    "    def __init__(self, location = None):\n",
    "        self.location = location\n",
    "        self.perceptions = [(self.location.name, self.location.dirt)]\n",
    "\n",
    "    def act(self,action):\n",
    "        \"\"\"Funcion para actuar\"\"\"\n",
    "        if action == \"Clean\":\n",
    "            self.location.dirt = 0\n",
    "            self.perceptions.append((self.location.name,self.location.dirt))\n",
    "        elif action == \"Left\":\n",
    "            self.location = self.location.left\n",
    "            self.perceptions.append((self.location.name,self.location.dirt))\n",
    "        elif action == \"Right\":\n",
    "            self.location = self.location.right\n",
    "            self.perceptions.append((self.location.name,self.location.dirt))\n",
    "        elif action == \"Up\":\n",
    "            self.location = self.location.up\n",
    "            self.perceptions.append((self.location.name,self.location.dirt))\n",
    "        elif action == \"Down\":\n",
    "            self.location = self.location.down\n",
    "            self.perceptions.append((self.location.name,self.location.dirt))\n",
    "        else:\n",
    "            print(\"No es una acción\")"
   ]
  },
  {
   "cell_type": "code",
   "execution_count": 22,
   "id": "6d63a8a1-4c17-453e-a9ec-d3073ed2875f",
   "metadata": {},
   "outputs": [
    {
     "name": "stdout",
     "output_type": "stream",
     "text": [
      "[(A,0) (B,1)]\n",
      "[(C,1) (D,1)]\n",
      "A\n"
     ]
    }
   ],
   "source": [
    "agent = Agent(location = env.A)\n",
    "print(env)\n",
    "print(agent.location)"
   ]
  },
  {
   "cell_type": "code",
   "execution_count": 25,
   "id": "c1dd0650-9b76-44dd-ab98-d0a5dc58a290",
   "metadata": {},
   "outputs": [
    {
     "name": "stdout",
     "output_type": "stream",
     "text": [
      "Ambiente despues de la accion:\n",
      "[(A,0) (B,0)]\n",
      "[(C,0) (D,0)] C\n",
      "Ambiente despues de la accion:\n",
      "[(A,0) (B,0)]\n",
      "[(C,0) (D,0)] D\n",
      "Ambiente despues de la accion:\n",
      "[(A,0) (B,0)]\n",
      "[(C,0) (D,0)] D\n",
      "Ambiente despues de la accion:\n",
      "[(A,0) (B,0)]\n",
      "[(C,0) (D,0)] D\n",
      "Ambiente despues de la accion:\n",
      "[(A,0) (B,0)]\n",
      "[(C,0) (D,0)] D\n",
      "Ambiente despues de la accion:\n",
      "[(A,0) (B,0)]\n",
      "[(C,0) (D,0)] C\n",
      "Ambiente despues de la accion:\n",
      "[(A,0) (B,0)]\n",
      "[(C,0) (D,0)] C\n"
     ]
    }
   ],
   "source": [
    "agent.act(action=\"Clean\")\n",
    "print(f\"Ambiente despues de la accion:\\n{env} {agent.location}\")\n",
    "agent.act(action=\"Right\")\n",
    "print(f\"Ambiente despues de la accion:\\n{env} {agent.location}\")\n",
    "agent.act(action=\"Clean\")\n",
    "print(f\"Ambiente despues de la accion:\\n{env} {agent.location}\")\n",
    "agent.act(action=\"Down\")\n",
    "print(f\"Ambiente despues de la accion:\\n{env} {agent.location}\")\n",
    "agent.act(action=\"Clean\")\n",
    "print(f\"Ambiente despues de la accion:\\n{env} {agent.location}\")\n",
    "agent.act(action=\"Left\")\n",
    "print(f\"Ambiente despues de la accion:\\n{env} {agent.location}\")\n",
    "agent.act(action=\"Clean\")\n",
    "print(f\"Ambiente despues de la accion:\\n{env} {agent.location}\")"
   ]
  },
  {
   "cell_type": "code",
   "execution_count": 26,
   "id": "66d39deb-44fd-4950-8af5-20de2dda59b8",
   "metadata": {},
   "outputs": [
    {
     "name": "stdout",
     "output_type": "stream",
     "text": [
      "[('A', 0), ('A', 0), ('A', 0), ('B', 1), ('B', 0), ('D', 1), ('D', 0), ('C', 1), ('C', 0), ('D', 0), ('D', 0), ('D', 0), ('D', 0), ('C', 0), ('C', 0)]\n"
     ]
    }
   ],
   "source": [
    "print(agent.perceptions)"
   ]
  }
 ],
 "metadata": {
  "kernelspec": {
   "display_name": "Python 3 (ipykernel)",
   "language": "python",
   "name": "python3"
  },
  "language_info": {
   "codemirror_mode": {
    "name": "ipython",
    "version": 3
   },
   "file_extension": ".py",
   "mimetype": "text/x-python",
   "name": "python",
   "nbconvert_exporter": "python",
   "pygments_lexer": "ipython3",
   "version": "3.10.13"
  }
 },
 "nbformat": 4,
 "nbformat_minor": 5
}
